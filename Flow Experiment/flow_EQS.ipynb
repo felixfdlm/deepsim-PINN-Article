{
 "cells": [
  {
   "cell_type": "code",
   "execution_count": 1,
   "id": "f307d3c1",
   "metadata": {},
   "outputs": [
    {
     "name": "stdout",
     "output_type": "stream",
     "text": [
      "---------------------- SCIANN 0.6.4.5 ---------------------- \n",
      "For details, check out our review paper and the documentation at: \n",
      " +  \"https://www.sciencedirect.com/science/article/pii/S0045782520307374\", \n",
      " +  \"https://arxiv.org/abs/2005.08803\", \n",
      " +  \"https://www.sciann.com\". \n",
      "\n",
      " Need support or would like to contribute, please join sciann`s slack group: \n",
      " +  \"https://join.slack.com/t/sciann/shared_invite/zt-ne1f5jlx-k_dY8RGo3ZreDXwz0f~CeA\" \n",
      " \n",
      "TensorFlow Version: 2.3.0 \n",
      "Python Version: 3.7.11 (default, Jul 27 2021, 09:42:29) [MSC v.1916 64 bit (AMD64)] \n",
      "\n"
     ]
    }
   ],
   "source": [
    "import sys\n",
    "sys.path.insert(0, '..')\n",
    "\n",
    "import AuxFuncts as AF\n",
    "import System as SEQ"
   ]
  },
  {
   "cell_type": "code",
   "execution_count": 2,
   "id": "a104b71c",
   "metadata": {},
   "outputs": [],
   "source": [
    "import sciann as sn\n",
    "from sciann import Variable\n",
    "from sciann import Functional"
   ]
  },
  {
   "cell_type": "code",
   "execution_count": 3,
   "id": "c006ede9",
   "metadata": {},
   "outputs": [],
   "source": [
    "TOL = 0.05\n",
    "\n",
    "\n",
    "mySys = SEQ.PDESystem(['x','y','t'],{'psi':0,'p':1,'u':'diff(#psi#,#y#)','v':'-diff(#psi#,#x#)'}\n",
    "                      ,paramSpecs={'rey':{'val':0}},\n",
    "                      constants={'TOL':TOL})"
   ]
  },
  {
   "cell_type": "code",
   "execution_count": 4,
   "id": "a78add13",
   "metadata": {},
   "outputs": [],
   "source": [
    "PDE1 = '''diff(#u#,#t#) + #u#*diff(#u#,#x#) + #v# * diff(#u#,#y#) + diff(#p#,#x#)\n",
    "- #rey# * (diff(#u#,#x#,order=2)+diff(#u#,#y#,order=2))'''\n",
    "valuesFunc1 = 0\n",
    "constraint1 =  [{},'Om']\n",
    "\n",
    "EQ1 = SEQ.Equation(constraint1,valuesFunc1,PDE1)"
   ]
  },
  {
   "cell_type": "code",
   "execution_count": 5,
   "id": "71e51180",
   "metadata": {},
   "outputs": [],
   "source": [
    "PDE2 = '''diff(#v#,#t#) + #u#*diff(#v#,#x#) + #v# * diff(#v#,#y#) + diff(#p#,#y#)\n",
    "- #rey# * (diff(#v#,#x#,order=2)+diff(#v#,#y#,order=2))'''\n",
    "valuesFunc2 = 0\n",
    "constraint2 =  [{},'Om']\n",
    "\n",
    "EQ2 = SEQ.Equation(constraint2,valuesFunc2,PDE2)"
   ]
  },
  {
   "cell_type": "code",
   "execution_count": 6,
   "id": "5dc9b478",
   "metadata": {},
   "outputs": [],
   "source": [
    "PDE3 = 'diff(#u#,#x#)+diff(#v#,#y#)'\n",
    "valuesFunc3 = 0\n",
    "constraint3 = [{},'Om']\n",
    "\n",
    "EQ3 = SEQ.Equation(constraint3,valuesFunc3,PDE3)"
   ]
  },
  {
   "cell_type": "code",
   "execution_count": 7,
   "id": "ab08db95-2af1-40e8-823b-1d56ae03feaf",
   "metadata": {},
   "outputs": [],
   "source": [
    "PDE4 = '#u#'\n",
    "PDE5 = '#v#'\n",
    "PDE6 = '#p#'\n",
    "\n",
    "valuesFunc456 = 0\n",
    "initial_constraint = [{\n",
    "    'A':SEQ.Constraint('#t#','<',TOL)\n",
    "},\n",
    "    'A']\n",
    "\n",
    "EQ4 = SEQ.Equation(initial_constraint,valuesFunc456,PDE4)\n",
    "EQ5 = SEQ.Equation(initial_constraint,valuesFunc456,PDE5)\n",
    "EQ6 = SEQ.Equation(initial_constraint,valuesFunc456,PDE6)"
   ]
  },
  {
   "cell_type": "code",
   "execution_count": 8,
   "id": "2094e6c7-8293-4535-945f-b5cb6911f791",
   "metadata": {},
   "outputs": [],
   "source": [
    "PDE7 = '#u#'\n",
    "PDE8 = '#v#'\n",
    "valuesFunc7 = '4*#y#*(1-#y#)'\n",
    "valuesFunc8 = 0\n",
    "input_constraint = [{\n",
    "    'A':SEQ.Constraint('#x#+2','<',TOL)\n",
    "},\n",
    "    'A']\n",
    "\n",
    "EQ7 = SEQ.Equation(input_constraint,valuesFunc7,PDE7)\n",
    "EQ8 = SEQ.Equation(input_constraint,valuesFunc8,PDE8)"
   ]
  },
  {
   "cell_type": "code",
   "execution_count": 9,
   "id": "ed64870f-fa0d-450e-a7c9-db238bb5f6af",
   "metadata": {},
   "outputs": [],
   "source": [
    "PDE9 = '#u#'\n",
    "PDE10 = '#v#'\n",
    "valuesFunc910 = 0\n",
    "border_constraint = [{\n",
    "    'SUP':SEQ.Constraint('#y#+#TOL#','>=',1),\n",
    "    'INF_LEFT_Y':SEQ.Constraint('#y#-#TOL#','<=',0),\n",
    "    'INF_LEFT_X':SEQ.Constraint('#x#-#TOL#','<=',0),\n",
    "    'INF_RIGHT':SEQ.Constraint('#y#-#TOL#','<=',-0.5)\n",
    "},  'SUPu(INF_LEFT_YnINF_LEFT_X)uINF_RIGHT']\n",
    "\n",
    "EQ9 = SEQ.Equation(border_constraint,valuesFunc910,PDE9)\n",
    "EQ10 = SEQ.Equation(border_constraint,valuesFunc910,PDE10)                                "
   ]
  },
  {
   "cell_type": "code",
   "execution_count": 10,
   "id": "2b0c5b73-9d0d-4c9c-8947-c0cf2f280c80",
   "metadata": {},
   "outputs": [],
   "source": [
    "PDE11 = '#p#'\n",
    "PDE12 = '#v#'\n",
    "\n",
    "valuesFunc_output = 0\n",
    "\n",
    "output_constraint = [{\n",
    "    'A':SEQ.Constraint('#x#+#TOL#','>=',18)\n",
    "},\n",
    "    'A']\n",
    "\n",
    "EQ11 = SEQ.Equation(output_constraint,valuesFunc_output,PDE11)\n",
    "EQ12 = SEQ.Equation(output_constraint,valuesFunc_output,PDE12)"
   ]
  },
  {
   "cell_type": "code",
   "execution_count": 28,
   "id": "717ca924-6450-4632-989e-c12dc6b8f31e",
   "metadata": {},
   "outputs": [],
   "source": [
    "PDE13 = '#psi#*0'\n",
    "valuesFunc_dummy = 0\n",
    "\n",
    "dummy_constraint = output_constraint = [{},'Om']\n",
    "\n",
    "EQ13 = SEQ.Equation(dummy_constraint,valuesFunc_dummy,PDE13)"
   ]
  },
  {
   "cell_type": "code",
   "execution_count": 29,
   "id": "dfaad88a-72d7-4364-ab55-7c60ca8f9d7d",
   "metadata": {},
   "outputs": [],
   "source": [
    "mySys.addEquation(EQ1)\n",
    "mySys.addEquation(EQ2)\n",
    "mySys.addEquation(EQ3)\n",
    "mySys.addEquation(EQ4)\n",
    "mySys.addEquation(EQ5)\n",
    "mySys.addEquation(EQ6)\n",
    "mySys.addEquation(EQ7)\n",
    "mySys.addEquation(EQ8)\n",
    "mySys.addEquation(EQ9)\n",
    "mySys.addEquation(EQ10)\n",
    "mySys.addEquation(EQ11)\n",
    "mySys.addEquation(EQ12)\n",
    "mySys.addEquation(EQ13)\n"
   ]
  },
  {
   "cell_type": "code",
   "execution_count": null,
   "id": "3eb7b918-f302-489f-b96e-b61f40d20f45",
   "metadata": {},
   "outputs": [],
   "source": []
  }
 ],
 "metadata": {
  "kernelspec": {
   "display_name": "Python 3 (ipykernel)",
   "language": "python",
   "name": "python3"
  },
  "language_info": {
   "codemirror_mode": {
    "name": "ipython",
    "version": 3
   },
   "file_extension": ".py",
   "mimetype": "text/x-python",
   "name": "python",
   "nbconvert_exporter": "python",
   "pygments_lexer": "ipython3",
   "version": "3.7.11"
  }
 },
 "nbformat": 4,
 "nbformat_minor": 5
}
