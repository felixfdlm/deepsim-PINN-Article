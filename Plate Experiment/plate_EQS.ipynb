{
 "cells": [
  {
   "cell_type": "code",
   "execution_count": 1,
   "id": "d76c3b70",
   "metadata": {},
   "outputs": [
    {
     "name": "stdout",
     "output_type": "stream",
     "text": [
      "---------------------- SCIANN 0.6.5.0 ---------------------- \n",
      "For details, check out our review paper and the documentation at: \n",
      " +  \"https://www.sciencedirect.com/science/article/pii/S0045782520307374\", \n",
      " +  \"https://arxiv.org/abs/2005.08803\", \n",
      " +  \"https://www.sciann.com\". \n",
      "\n",
      " Need support or would like to contribute, please join sciann`s slack group: \n",
      " +  \"https://join.slack.com/t/sciann/shared_invite/zt-ne1f5jlx-k_dY8RGo3ZreDXwz0f~CeA\" \n",
      " \n",
      "TensorFlow Version: 2.3.0 \n",
      "Python Version: 3.7.11 (default, Jul 27 2021, 09:42:29) [MSC v.1916 64 bit (AMD64)] \n",
      "\n"
     ]
    }
   ],
   "source": [
    "import sys\n",
    "sys.path.insert(0, '..')\n",
    "\n",
    "import AuxFuncts as AF\n",
    "import System as SEQ"
   ]
  },
  {
   "cell_type": "code",
   "execution_count": 2,
   "id": "202b3dc1",
   "metadata": {},
   "outputs": [],
   "source": [
    "import sciann as sn\n",
    "from sciann import Variable\n",
    "from sciann import Functional"
   ]
  },
  {
   "cell_type": "code",
   "execution_count": 3,
   "id": "bce280da",
   "metadata": {},
   "outputs": [],
   "source": [
    "TOL = 0.05 # Esta constante se usa para que los bordes tomen valores y se activen las funciones de contorno\n",
    "convection = 1. # Coeficiente de pérdida de calor en los bordes y=1 e y=-1\n",
    "conductivity = 1. # Capacidad conductora de calor del material de la placa\n",
    "capCal = 1. # Capacidad de retención de calor del material de la placa\n",
    "focoTemp = 10. # Temperatura del foco de calor\n",
    "tempExt = 5. # Temperatura del exterior\n",
    "tempInicial = 0. # Temperatura inicial de la placa\n",
    "sigma = 0.4 #Amplitud del foco de calor\n",
    "\n",
    "\n",
    "mySys = SEQ.PDESystem(['x','y','t'],{'u':0},paramSpecs={},\n",
    "                      constants={'capCal':capCal,'sigma':sigma,'TOL':TOL,'conductivity':conductivity,\n",
    "                                 'convection':convection,'tempExt':tempExt})"
   ]
  },
  {
   "cell_type": "code",
   "execution_count": 4,
   "id": "f0d209b7",
   "metadata": {},
   "outputs": [],
   "source": [
    "PDE1 = '#capCal#*diff(#u#,#t#) - #conductivity# * (diff(#u#,#x#,order=2)+diff(#u#,#y#,order=2))'\n",
    "valuesFunc1 = 0\n",
    "constraints1 = [{\n",
    "    'A':SEQ.Constraint('np.sqrt(#x#**2+#y#**2)','>=',sigma),\n",
    "    'B':SEQ.Constraint('#t#','<',5)\n",
    "},  'AuB'\n",
    "]\n",
    "\n",
    "EQ1 = SEQ.Equation(constraints1,valuesFunc1,PDE1)\n",
    "\n",
    "mySys.addEquation(EQ1)"
   ]
  },
  {
   "cell_type": "code",
   "execution_count": 5,
   "id": "886150b5",
   "metadata": {},
   "outputs": [],
   "source": [
    "PDE2 = '#convection# * diff(#u#,#x#)'\n",
    "valuesFunc2 = 0\n",
    "constraints2 = [{\n",
    "    'A':SEQ.Constraint('np.abs(#x#)+#TOL#','>',2)\n",
    "},  'A'\n",
    "]\n",
    "\n",
    "EQ2 = SEQ.Equation(constraints2,valuesFunc2,PDE2)\n",
    "\n",
    "mySys.addEquation(EQ2)"
   ]
  },
  {
   "cell_type": "code",
   "execution_count": 6,
   "id": "48d08f07",
   "metadata": {},
   "outputs": [],
   "source": [
    "PDE3 = '#u#'\n",
    "valuesFunc3 = tempExt\n",
    "constraints3 = [{\n",
    "    'A':SEQ.Constraint('np.abs(#y#)+#TOL#','>',2)\n",
    "},  'A'\n",
    "]\n",
    "\n",
    "EQ3 = SEQ.Equation(constraints3,valuesFunc3,PDE3)\n",
    "\n",
    "mySys.addEquation(EQ3)"
   ]
  },
  {
   "cell_type": "code",
   "execution_count": 7,
   "id": "82cac4cb",
   "metadata": {},
   "outputs": [],
   "source": [
    "PDE4 = '#u#'\n",
    "valuesFunc4 = '#tempExt#/2*np.abs(#y#)' \n",
    "constraints4 = [{\n",
    "    'A':SEQ.Constraint('#t#','<',TOL)\n",
    "},  'A'\n",
    "]\n",
    "\n",
    "EQ4 = SEQ.Equation(constraints4,valuesFunc4,PDE4)\n",
    "\n",
    "mySys.addEquation(EQ4)"
   ]
  },
  {
   "cell_type": "code",
   "execution_count": 8,
   "id": "ddb2f13f",
   "metadata": {},
   "outputs": [],
   "source": [
    "PDE5 = PDE1\n",
    "valuesFunc5 = '''5 + 5*np.exp(-(#x#**2+#y#**2)/(2*(#sigma#)**2))/np.sqrt((2*np.pi*#sigma#**2))*(1/(1+np.exp(-4*(#t#-6))))'''\n",
    "\n",
    "constraints5 = [{\n",
    "    'A':SEQ.Constraint('#t#','>=',5),\n",
    "    'B':SEQ.Constraint('np.sqrt(#x#**2+#y#**2)','<',sigma)\n",
    "},  'AnB'\n",
    "]\n",
    "\n",
    "EQ5 = SEQ.Equation(constraints5,valuesFunc5,PDE5)\n",
    "\n",
    "mySys.addEquation(EQ5)"
   ]
  }
 ],
 "metadata": {
  "kernelspec": {
   "display_name": "Python 3 (ipykernel)",
   "language": "python",
   "name": "python3"
  },
  "language_info": {
   "codemirror_mode": {
    "name": "ipython",
    "version": 3
   },
   "file_extension": ".py",
   "mimetype": "text/x-python",
   "name": "python",
   "nbconvert_exporter": "python",
   "pygments_lexer": "ipython3",
   "version": "3.7.11"
  }
 },
 "nbformat": 4,
 "nbformat_minor": 5
}
