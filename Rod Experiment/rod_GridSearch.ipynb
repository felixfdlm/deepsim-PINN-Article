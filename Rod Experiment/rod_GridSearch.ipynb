{
 "cells": [
  {
   "cell_type": "code",
   "execution_count": 1,
   "id": "979070ca",
   "metadata": {},
   "outputs": [],
   "source": [
    "import hpbandster.core.nameserver as hpns\n",
    "import hpbandster.core.result as hpres\n",
    "\n",
    "from hpbandster.optimizers import BOHB as BOHB\n",
    "import pickle\n",
    "\n",
    "import numpy as np"
   ]
  },
  {
   "cell_type": "code",
   "execution_count": 2,
   "id": "8d2a99fe",
   "metadata": {},
   "outputs": [
    {
     "name": "stdout",
     "output_type": "stream",
     "text": [
      "---------------------- SCIANN 0.6.4.5 ---------------------- \n",
      "For details, check out our review paper and the documentation at: \n",
      " +  \"https://www.sciencedirect.com/science/article/pii/S0045782520307374\", \n",
      " +  \"https://arxiv.org/abs/2005.08803\", \n",
      " +  \"https://www.sciann.com\". \n",
      "\n",
      " Need support or would like to contribute, please join sciann`s slack group: \n",
      " +  \"https://join.slack.com/t/sciann/shared_invite/zt-ne1f5jlx-k_dY8RGo3ZreDXwz0f~CeA\" \n",
      " \n",
      "TensorFlow Version: 2.3.0 \n",
      "Python Version: 3.7.11 (default, Jul 27 2021, 09:42:29) [MSC v.1916 64 bit (AMD64)] \n",
      "\n"
     ]
    }
   ],
   "source": [
    "import sys\n",
    "sys.path.insert(0, '..')\n",
    "\n",
    "\n",
    "import System as SEQ\n",
    "%run rod_EQS.ipynb\n"
   ]
  },
  {
   "cell_type": "code",
   "execution_count": 3,
   "id": "f7e17c1a",
   "metadata": {},
   "outputs": [],
   "source": [
    "import Pinn_Worker"
   ]
  },
  {
   "cell_type": "code",
   "execution_count": 4,
   "id": "b4973be8",
   "metadata": {},
   "outputs": [],
   "source": [
    "test_gridObj = SEQ.Grid(2,{'x':0,'t':1},[[[0,2],[0,10]]],10)\n",
    "configspecs = {\n",
    "    'denspt':[5,12],\n",
    "    'numNeurons':[10,100],\n",
    "    'numLayers':[2,50],\n",
    "    'activator':['tanh','relu','softmax','sigmoid'],\n",
    "    'loss':['mae','mse'],\n",
    "    'optimizer':['Adam','RMSprop','SGD','Nadam','Ftrl'],\n",
    "    'batch_size':[5000,10000,15000,25000]\n",
    "}\n",
    "\n",
    "\n"
   ]
  },
  {
   "cell_type": "code",
   "execution_count": 5,
   "id": "958646b8",
   "metadata": {},
   "outputs": [],
   "source": [
    "def u_n(n,x,t):\n",
    "  mu_n = (2*n+1)*np.pi/4\n",
    "  T_n =  np.exp(-t*(mu_n**2))\n",
    "  X_n = -np.cos(mu_n*x)*2.5/(mu_n**2)\n",
    "  return X_n*T_n\n",
    "\n",
    "depth = 100\n",
    "\n",
    "u_pred_Simb = (np.sum((np.array([u_n(n,test_gridObj.grid[:,0],test_gridObj.grid[:,1]) for n in range(depth)])),axis=0)+5)[:,None]\n",
    "valData = np.concatenate((test_gridObj.grid,u_pred_Simb),axis=1)"
   ]
  },
  {
   "cell_type": "code",
   "execution_count": 7,
   "id": "f89a954a",
   "metadata": {},
   "outputs": [
    {
     "name": "stderr",
     "output_type": "stream",
     "text": [
      "22:52:03 WORKER: Connected to nameserver <Pyro4.core.Proxy at 0x285fe082c48; connected IPv4; for PYRO:Pyro.NameServer@127.0.0.1:9090>\n",
      "22:52:03 WORKER: No dispatcher found. Waiting for one to initiate contact.\n",
      "22:52:03 WORKER: start listening for jobs\n",
      "22:52:03 WORKER: Connected to nameserver <Pyro4.core.Proxy at 0x285fe0a7308; connected IPv4; for PYRO:Pyro.NameServer@127.0.0.1:9090>\n",
      "22:52:03 WORKER: No dispatcher found. Waiting for one to initiate contact.\n",
      "22:52:03 WORKER: start listening for jobs\n",
      "22:52:03 WORKER: Connected to nameserver <Pyro4.core.Proxy at 0x285fe0afbc8; connected IPv4; for PYRO:Pyro.NameServer@127.0.0.1:9090>\n",
      "22:52:03 WORKER: No dispatcher found. Waiting for one to initiate contact.\n",
      "22:52:03 WORKER: start listening for jobs\n",
      "22:52:03 WORKER: Connected to nameserver <Pyro4.core.Proxy at 0x285fe0ba488; connected IPv4; for PYRO:Pyro.NameServer@127.0.0.1:9090>\n",
      "22:52:03 WORKER: No dispatcher found. Waiting for one to initiate contact.\n",
      "22:52:03 WORKER: start listening for jobs\n"
     ]
    },
    {
     "name": "stdout",
     "output_type": "stream",
     "text": [
      "Applying validation data to test grid\n",
      "Saving PDE and config\n",
      "Worker ready\n",
      "Applying validation data to test grid\n",
      "Saving PDE and config\n",
      "Worker ready\n",
      "Applying validation data to test grid\n",
      "Saving PDE and config\n",
      "Worker ready\n",
      "Applying validation data to test grid\n",
      "Saving PDE and config\n",
      "Worker ready\n",
      "Applying validation data to test grid\n",
      "Saving PDE and config\n",
      "Worker ready\n"
     ]
    },
    {
     "name": "stderr",
     "output_type": "stream",
     "text": [
      "22:52:03 WORKER: Connected to nameserver <Pyro4.core.Proxy at 0x285fe0c3248; connected IPv4; for PYRO:Pyro.NameServer@127.0.0.1:9090>\n",
      "22:52:03 WORKER: No dispatcher found. Waiting for one to initiate contact.\n",
      "22:52:03 WORKER: start listening for jobs\n"
     ]
    }
   ],
   "source": [
    "# Step 1: Start a nameserver\n",
    "# Every run needs a nameserver. It could be a 'static' server with a\n",
    "# permanent address, but here it will be started for the local machine with the default port.\n",
    "# The nameserver manages the concurrent running workers across all possible threads or clusternodes.\n",
    "# Note the run_id argument. This uniquely identifies a run of any HpBandSter optimizer.\n",
    "NS = hpns.NameServer(run_id='rod_GridSearch_1', host='127.0.0.1', port=None)\n",
    "NS.start()\n",
    "\n",
    "# Step 2: Start a worker\n",
    "# Now we can instantiate a worker, providing the mandatory information\n",
    "# Besides the sleep_interval, we need to define the nameserver information and\n",
    "# the same run_id as above. After that, we can start the worker in the background,\n",
    "# where it will wait for incoming configurations to evaluate.\n",
    "\n",
    "numWorkers = 5\n",
    "experiment_name = 'chandrasekhar'\n",
    "\n",
    "workers=[]\n",
    "for i in range(1,numWorkers+1):\n",
    "    \n",
    "    w = Pinn_Worker.PINN_Worker(\n",
    "    valData = valData,\n",
    "    test_gridObj=test_gridObj,\n",
    "    PDESystem=mySys,\n",
    "    configspecs = configspecs,\n",
    "    valFromFEM=False,\n",
    "    experiment_name = experiment_name,\n",
    "    nameserver='127.0.0.1',\n",
    "    run_id='rod_GridSearch_1',id=i)\n",
    "    \n",
    "    w.run(background=False)\n",
    "    \n",
    "    workers.append(w)\n",
    "\n",
    "\n"
   ]
  },
  {
   "cell_type": "code",
   "execution_count": null,
   "id": "691636e1",
   "metadata": {},
   "outputs": [],
   "source": [
    "# bohb = BOHB(  configspace = w.get_configspace(),\n",
    "#               run_id = 'example1', nameserver='127.0.0.1',\n",
    "#               min_budget=10, max_budget=1000\n",
    "#            )\n",
    "# res = bohb.run(n_iterations=25\n",
    "#               )\n",
    "\n",
    "bohb = BOHB(  configspace = w.get_configspace(),\n",
    "              run_id = 'rod_GridSearch_1',\n",
    "              min_budget=100, max_budget=5000\n",
    "           )\n",
    "res = bohb.run(n_iterations=15, min_n_workers=numWorkers)\n"
   ]
  },
  {
   "cell_type": "code",
   "execution_count": null,
   "id": "0dc34189",
   "metadata": {},
   "outputs": [],
   "source": [
    "import tensorflow as tf\n",
    "tf.config.list_logical_devices()"
   ]
  },
  {
   "cell_type": "code",
   "execution_count": null,
   "id": "9eefa090",
   "metadata": {},
   "outputs": [],
   "source": []
  }
 ],
 "metadata": {
  "kernelspec": {
   "display_name": "Python 3 (ipykernel)",
   "language": "python",
   "name": "python3"
  },
  "language_info": {
   "codemirror_mode": {
    "name": "ipython",
    "version": 3
   },
   "file_extension": ".py",
   "mimetype": "text/x-python",
   "name": "python",
   "nbconvert_exporter": "python",
   "pygments_lexer": "ipython3",
   "version": "3.7.11"
  }
 },
 "nbformat": 4,
 "nbformat_minor": 5
}
