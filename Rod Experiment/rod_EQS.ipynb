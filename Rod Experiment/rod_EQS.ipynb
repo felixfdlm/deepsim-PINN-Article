{
 "cells": [
  {
   "cell_type": "code",
   "execution_count": null,
   "id": "378e8e4b",
   "metadata": {},
   "outputs": [],
   "source": [
    "import sys\n",
    "sys.path.insert(0, '..')\n",
    "\n",
    "import AuxFuncts as AF\n",
    "import System as SEQ"
   ]
  },
  {
   "cell_type": "code",
   "execution_count": null,
   "id": "522a17f2",
   "metadata": {},
   "outputs": [],
   "source": [
    "import sciann as sn\n",
    "from sciann import Variable\n",
    "from sciann import Functional"
   ]
  },
  {
   "cell_type": "code",
   "execution_count": null,
   "id": "2ce05c68",
   "metadata": {},
   "outputs": [],
   "source": [
    "TOL = 0.05 # Esta constante se usa para que los bordes tomen valores y se activen las funciones de contorno\n",
    "convection = 25. # Coeficiente de pérdida de calor en los bordes y=1 e y=-1\n",
    "conductivity = 1. # Capacidad conductora de calor del material de la placa\n",
    "capCal = 1. # Capacidad de retención de calor del material de la placa\n",
    "focoTemp = 25. # Temperatura del foco de calor\n",
    "tempExt = 5. # Temperatura del exterior\n",
    "tempInicial = 0. # Temperatura inicial de la placa\n",
    "\n",
    "\n",
    "mySys = SEQ.PDESystem(['x','t'],{'u':0},paramSpecs={},\n",
    "                      constants={'capCal':capCal,'TOL':TOL,'conductivity':conductivity,\n",
    "                                 'convection':convection,'tempExt':tempExt})"
   ]
  },
  {
   "cell_type": "code",
   "execution_count": null,
   "id": "fb3039bf",
   "metadata": {},
   "outputs": [],
   "source": [
    "PDE1 = '#capCal#*diff(#u#,#t#) - #conductivity# * (diff(#u#,#x#,order=2))'\n",
    "valuesFunc1 = 0\n",
    "constraints1 = [{\n",
    "    \n",
    "}, 'Om'\n",
    "\n",
    "]\n",
    "\n",
    "EQ1 = SEQ.Equation(constraints1,valuesFunc1,PDE1)\n",
    "\n",
    "mySys.addEquation(EQ1)"
   ]
  },
  {
   "cell_type": "code",
   "execution_count": null,
   "id": "9d985e05",
   "metadata": {},
   "outputs": [],
   "source": [
    "PDE2 = '#u#'\n",
    "valuesFunc2 = '2.5*#x#'\n",
    "constraints2 = [{\n",
    "    'A':SEQ.Constraint('#t#','<=',TOL)\n",
    "},'A'\n",
    "]\n",
    "\n",
    "EQ2 = SEQ.Equation(constraints2,valuesFunc2,PDE2)\n",
    "mySys.addEquation(EQ2)"
   ]
  },
  {
   "cell_type": "code",
   "execution_count": null,
   "id": "139e91ec",
   "metadata": {},
   "outputs": [],
   "source": [
    "PDE3 = '-diff(#u#,#x#)'\n",
    "valuesFunc3 = 0\n",
    "constraints3 = [{\n",
    "    'A':SEQ.Constraint('#x#','<=',TOL)    \n",
    "}, 'A'\n",
    "]\n",
    "\n",
    "EQ3 = SEQ.Equation(constraints3,valuesFunc3,PDE3)\n",
    "mySys.addEquation(EQ3)"
   ]
  },
  {
   "cell_type": "code",
   "execution_count": null,
   "id": "0410e1dd",
   "metadata": {},
   "outputs": [],
   "source": [
    "PDE4 = '#u#'\n",
    "valuesFunc4 = tempExt\n",
    "constraints4 = [{\n",
    "    'A':SEQ.Constraint('#x#','>=',2-TOL)    \n",
    "}, 'A'\n",
    "]\n",
    "\n",
    "EQ4 = SEQ.Equation(constraints4,valuesFunc4,PDE4)\n",
    "mySys.addEquation(EQ4)"
   ]
  }
 ],
 "metadata": {
  "kernelspec": {
   "display_name": "Python 3",
   "language": "python",
   "name": "python3"
  },
  "language_info": {
   "codemirror_mode": {
    "name": "ipython",
    "version": 3
   },
   "file_extension": ".py",
   "mimetype": "text/x-python",
   "name": "python",
   "nbconvert_exporter": "python",
   "pygments_lexer": "ipython3",
   "version": "3.7.11"
  }
 },
 "nbformat": 4,
 "nbformat_minor": 5
}
