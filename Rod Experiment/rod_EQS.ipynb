{
 "cells": [
  {
   "cell_type": "markdown",
   "id": "6149f218",
   "metadata": {},
   "source": [
    "# Rod PDE System\n",
    "\n",
    "In this notebook, we are going to build the PDESystem object related to the rod problem. Every step of the process will be sufficiently explained."
   ]
  },
  {
   "cell_type": "code",
   "execution_count": null,
   "id": "378e8e4b",
   "metadata": {},
   "outputs": [],
   "source": [
    "# First we load the parent folder and the tools we will need\n",
    "\n",
    "#Load of the parent folder\n",
    "import sys\n",
    "sys.path.insert(0, '..')\n",
    "\n",
    "#Load of the tools we created\n",
    "import AuxFuncts as AF\n",
    "import System as SEQ\n",
    "\n",
    "#Load of the sciann-related tools\n",
    "import sciann as sn\n",
    "from sciann import Variable\n",
    "from sciann import Functional"
   ]
  },
  {
   "cell_type": "markdown",
   "id": "5cdd6065",
   "metadata": {},
   "source": [
    "## Definition of constants, variables, goal functions and PDESystem object.\n",
    "\n",
    "Firstly, we will define the constants related to the whole experiment. This allows us to easily change them if needed.\n",
    "\n",
    "Secondly, we will construct the PDESystem object. To do so, we will input the following elements:\n",
    "\n",
    " - The variables' names as a list of strings (order is important!)\n",
    " - The objective functions as a dictionary with format 'key':index. \n",
    " - A dictionary holding parameters and their specs.\n",
    " - A dictionary holding the constants' names and its values."
   ]
  },
  {
   "cell_type": "code",
   "execution_count": null,
   "id": "2ce05c68",
   "metadata": {},
   "outputs": [],
   "source": [
    "#Constant definition\n",
    "TOL = 0.05 # Esta constante se usa para que los bordes tomen valores y se activen las funciones de contorno\n",
    "convection = 25. # Coeficiente de pérdida de calor en los bordes y=1 e y=-1\n",
    "conductivity = 1. # Capacidad conductora de calor del material de la placa\n",
    "capCal = 1. # Capacidad de retención de calor del material de la placa\n",
    "focoTemp = 25. # Temperatura del foco de calor\n",
    "tempExt = 5. # Temperatura del exterior\n",
    "tempInicial = 0. # Temperatura inicial de la placa\n",
    "\n",
    "#PDESystem object creation\n",
    "mySys = SEQ.PDESystem(['x','t'],{'u':0},paramSpecs={},\n",
    "                      constants={'capCal':capCal,'TOL':TOL,'conductivity':conductivity,\n",
    "                                 'convection':convection,'tempExt':tempExt})"
   ]
  },
  {
   "cell_type": "markdown",
   "id": "4dc44ef5",
   "metadata": {},
   "source": [
    "## Definition of PDEs and the subspaces they are applied to.\n",
    "\n",
    "The final and most important element to build the PDE System is the set of PDEs. To add them to the PDESystem object, we will create them one by one and add them using the addEquation method."
   ]
  },
  {
   "cell_type": "markdown",
   "id": "c9028962",
   "metadata": {},
   "source": [
    "#### Heat PDE\n",
    "\n",
    "The formula of the first PDE is: $$ C\\frac{\\partial u}{\\partial t} -  Q \\Delta u = 0,$$\n",
    "\n",
    "where C is the heat capacity and Q the conductivity. To input this equation into the Equation object, we store it as a string, where all the variables, functions, parameters and constants should be enclosed between # symbols. In this case, the partial derivative over time is written as diff(u,x), and the diffusion component of the equation ($\\Delta u$), is written as the sum of derivatives of order two over all the spatial variables (in this case, only x).\n",
    "\n",
    "Secondly, we have to define over which subset of the problem space this equation is effective. Since the heat affects the rod over all time and space, we just call the full set with the default key 'Om'. We will see later how to adequately use the Constraints class.\n",
    "\n",
    "Lastly, we bundle everything up and pass it to the Equation class to create an Equation object, which we add to the equation system using the addEquation method.\n"
   ]
  },
  {
   "cell_type": "code",
   "execution_count": null,
   "id": "fb3039bf",
   "metadata": {},
   "outputs": [],
   "source": [
    "PDE1 = '#capCal#*diff(#u#,#t#) - #conductivity# * (diff(#u#,#x#,order=2))'\n",
    "valuesFunc1 = 0\n",
    "constraints1 = [{\n",
    "    \n",
    "}, 'Om'\n",
    "\n",
    "]\n",
    "\n",
    "EQ1 = SEQ.Equation(constraints1,valuesFunc1,PDE1)\n",
    "\n",
    "mySys.addEquation(EQ1)"
   ]
  },
  {
   "cell_type": "markdown",
   "id": "04c85fd4",
   "metadata": {},
   "source": [
    "#### Initial heat conditions.\n",
    "\n",
    "The formula of this PDE is $$ u = 2.5*x \\quad \\textrm{ on } \\quad X \\times \\lbrace t=0\\rbrace $$\n",
    "\n",
    "that is, at time $t=0$, the heat is 0 in the leftmost side of the rod, and five at the rightmost one, with the heat linearly distributed between the two points. To define this condition we plug u in the PDE side, and we plug 2.5*x in the values function side.\n",
    "\n",
    "To build the constraint, we need to understand how the Constraint class works. To build a constraint we must define an inequation composed by three elements:\n",
    " - A values function: This is a function over the coordinates of the problem (t and x in this case), which assigns a certain value to each point depending on its coordinates.\n",
    " - A comparator: This is a string defining a comparison symbol. It can be <=, <, =, > or >.\n",
    " - A value or constant. This can only be an integer which is compared to the values function.\n",
    " \n",
    "For instance, in this case we need to get all the points whose time dimension is small enough (to emulate initial conditions). To do so we define the constraint t <= TOL, where TOL is a small number.\n",
    "\n",
    "To apply the constraint, a set operations module has been implemented inside the Equation class. This way, we can easily build complex subspaces using union (u symbol) and intersection (n symbol) operations. \n",
    "\n",
    "For instance if we wanted to select the initial conditions around the center of the board, we would create the previously mentioned set A, and another set B selecting the center (np.abs(x-1<=TOL)). The set would be then built as 'AnB'.\n",
    "\n",
    "To pass the constraints on to the Equation class, we build a list composed of a dictionary containing the set objects, and a string defining the set equation."
   ]
  },
  {
   "cell_type": "code",
   "execution_count": null,
   "id": "9d985e05",
   "metadata": {},
   "outputs": [],
   "source": [
    "PDE2 = '#u#'\n",
    "valuesFunc2 = '2.5*#x#'\n",
    "constraints2 = [{\n",
    "    'A':SEQ.Constraint('#t#','<=',TOL)\n",
    "},'A'\n",
    "]\n",
    "\n",
    "EQ2 = SEQ.Equation(constraints2,valuesFunc2,PDE2)\n",
    "mySys.addEquation(EQ2)"
   ]
  },
  {
   "cell_type": "markdown",
   "id": "bae6e4bb",
   "metadata": {},
   "source": [
    "#### Thermal insulation.\n",
    "\n",
    "The rod is insulated in its leftmost side. The equation defining this phenomenon is: $$ \\nu \\frac{\\partial u}{\\partial x} = 0 \\quad on \\quad \\lbrace x=0\\rbrace \\times T $$\n",
    "\n",
    "This is a vector equation, but in this case, $\\nu$ along the left frontier results in $-1$ over x and $0$ over t. Therefore we get just one equation.\n"
   ]
  },
  {
   "cell_type": "code",
   "execution_count": null,
   "id": "139e91ec",
   "metadata": {},
   "outputs": [],
   "source": [
    "PDE3 = '-diff(#u#,#x#)'\n",
    "valuesFunc3 = 0\n",
    "constraints3 = [{\n",
    "    'A':SEQ.Constraint('#x#','<=',TOL)    \n",
    "}, 'A'\n",
    "]\n",
    "\n",
    "EQ3 = SEQ.Equation(constraints3,valuesFunc3,PDE3)\n",
    "mySys.addEquation(EQ3)"
   ]
  },
  {
   "cell_type": "markdown",
   "id": "67f390ee",
   "metadata": {},
   "source": [
    "#### Constant temperature input in the rightmost side.\n",
    "\n",
    "The rod is not insulated on the rightmost side. This is usually simulated with a convection equation similar to the previous one, but the PINN has a hard time adjusting to these conditions, so instead we input a constant temperature on said side. The equation for this condition is:\n",
    "\n",
    "$$ u = tempExt \\quad on \\quad \\lbrace x=2\\rbrace \\times T $$\n",
    "\n",
    "\n"
   ]
  },
  {
   "cell_type": "code",
   "execution_count": null,
   "id": "0410e1dd",
   "metadata": {},
   "outputs": [],
   "source": [
    "PDE4 = '#u#'\n",
    "valuesFunc4 = tempExt\n",
    "constraints4 = [{\n",
    "    'A':SEQ.Constraint('#x#','>=',2-TOL)    \n",
    "}, 'A'\n",
    "]\n",
    "\n",
    "EQ4 = SEQ.Equation(constraints4,valuesFunc4,PDE4)\n",
    "mySys.addEquation(EQ4)"
   ]
  },
  {
   "cell_type": "markdown",
   "id": "a442abb2",
   "metadata": {},
   "source": [
    "Once the Equation object is built, we can save the notebook and hand it to the experimentation worker.\n",
    "\n",
    "Building the problem this way allows us to separate the more mathematics and physics part of the process from the more technical and programming-oriented part."
   ]
  }
 ],
 "metadata": {
  "kernelspec": {
   "display_name": "Python 3 (ipykernel)",
   "language": "python",
   "name": "python3"
  },
  "language_info": {
   "codemirror_mode": {
    "name": "ipython",
    "version": 3
   },
   "file_extension": ".py",
   "mimetype": "text/x-python",
   "name": "python",
   "nbconvert_exporter": "python",
   "pygments_lexer": "ipython3",
   "version": "3.7.11"
  }
 },
 "nbformat": 4,
 "nbformat_minor": 5
}
